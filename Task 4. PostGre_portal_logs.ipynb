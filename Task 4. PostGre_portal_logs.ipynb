{
 "cells": [
  {
   "cell_type": "markdown",
   "id": "517c84ef-e444-4e0f-945b-be7177cbc991",
   "metadata": {},
   "source": [
    "# Создание и заполнение данных БД Postgre"
   ]
  },
  {
   "cell_type": "code",
   "execution_count": 8,
   "id": "5c391318-0f94-47f8-883c-bc37724866c4",
   "metadata": {},
   "outputs": [],
   "source": [
    "import os\n",
    "import json\n",
    "import psycopg2\n",
    "from psycopg2.extras import DictCursor\n"
   ]
  },
  {
   "cell_type": "code",
   "execution_count": 9,
   "id": "53552e6b-7dbe-46e8-8809-d6082bcdc85f",
   "metadata": {},
   "outputs": [],
   "source": [
    "POSTGRESQL_HOST = '10.129.0.25'"
   ]
  },
  {
   "cell_type": "code",
   "execution_count": 10,
   "id": "faca2a50-c99b-4117-9b2e-6e7ee6da58b4",
   "metadata": {},
   "outputs": [
    {
     "name": "stdout",
     "output_type": "stream",
     "text": [
      "POSTGRESQL_USER=reader\n",
      "POSTGRESQL_PASSWORD=Miba2021\n"
     ]
    }
   ],
   "source": [
    "!env | grep POST"
   ]
  },
  {
   "cell_type": "code",
   "execution_count": 11,
   "id": "8a4a2af1-c4e8-44a5-8dab-97afcb4d0d30",
   "metadata": {},
   "outputs": [
    {
     "name": "stdout",
     "output_type": "stream",
     "text": [
      "ERROR:  database \"test\" already exists\n"
     ]
    }
   ],
   "source": [
    "!psql -c 'create database test;'"
   ]
  },
  {
   "cell_type": "code",
   "execution_count": 12,
   "id": "3944aeb3-30a5-4174-8aef-94402305ab8f",
   "metadata": {},
   "outputs": [
    {
     "name": "stdout",
     "output_type": "stream",
     "text": [
      "The sql extension is already loaded. To reload it, use:\n",
      "  %reload_ext sql\n"
     ]
    }
   ],
   "source": [
    "%load_ext sql"
   ]
  },
  {
   "cell_type": "code",
   "execution_count": 13,
   "id": "20d0cf52-8265-4df8-8730-c8fbc9df6824",
   "metadata": {},
   "outputs": [
    {
     "name": "stdout",
     "output_type": "stream",
     "text": [
      "0 rows affected.\n"
     ]
    },
    {
     "data": {
      "text/html": [
       "<table>\n",
       "    <tr>\n",
       "        <th>table</th>\n",
       "    </tr>\n",
       "</table>"
      ],
      "text/plain": [
       "[]"
      ]
     },
     "execution_count": 13,
     "metadata": {},
     "output_type": "execute_result"
    }
   ],
   "source": [
    "%%sql postgresql:///test\n",
    "    SELECT tablename AS table FROM pg_tables WHERE tablename !~ '^(pg_|sql_)'"
   ]
  },
  {
   "cell_type": "markdown",
   "id": "46496e8c-d287-427d-9048-ebc39a099af5",
   "metadata": {},
   "source": [
    "## Примеры SQL запросов \n",
    "1. Представим запрос для создания таблицы users c двумя полями:\n",
    "```\n",
    "%%sql postgresql:///test\n",
    "    CREATE TABLE users (\n",
    "        login varchar(10) NOT NULL, \n",
    "        password varchar(100)\n",
    "    );\n",
    "```\n",
    "\n",
    "2. Чтобы добавить запись в таблицу, небходимо выполнить следующий запрос:\n",
    "\n",
    "```\n",
    "%%sql postgresql:///test\n",
    "   INSERT INTO users VALUES ('monit', 'querty')\n",
    "```\n",
    "\n",
    "3. Получить данные из таблицы:\n",
    "```\n",
    "%%sql postgresql:///test\n",
    "   SELECT * FROM users\n",
    "```\n",
    "\n",
    "4. Удалить таблицу:\n",
    "```\n",
    "!psql -d test -c 'DROP TABLE users'\n",
    "```"
   ]
  },
  {
   "cell_type": "markdown",
   "id": "e726d8a0-7fb7-41d7-9649-54e83b9c1de9",
   "metadata": {},
   "source": [
    "Считаем данные из файла datasets/aggrigation_logs_per_week.csv.\n",
    "\n",
    "Выведем первую строку с заголовками. "
   ]
  },
  {
   "cell_type": "code",
   "execution_count": 14,
   "id": "ed9ac5a9-2b33-4d79-823f-fc5acc586040",
   "metadata": {},
   "outputs": [
    {
     "name": "stdout",
     "output_type": "stream",
     "text": [
      "['courseid', 'userid', 'num_week', 's_all', 's_all_avg', 's_course_viewed', 's_course_viewed_avg', 's_q_attempt_viewed', 's_q_attempt_viewed_avg', 's_a_course_module_viewed', 's_a_course_module_viewed_avg', 's_a_submission_status_viewed', 's_a_submission_status_viewed_avg', 'NameR_Level', 'Name_vAtt', 'Depart', 'Name_OsnO', 'Name_FormOPril', 'LevelEd', 'Num_Sem', 'Kurs', 'Date_vAtt']\n"
     ]
    }
   ],
   "source": [
    "import csv\n",
    "\n",
    "with open('datasets/aggrigation_logs_per_week.csv') as file:\n",
    "    reader = csv.reader(file)\n",
    "    headers = next(reader)\n",
    "print (headers)"
   ]
  },
  {
   "cell_type": "markdown",
   "id": "b2f22ca1-b1e7-4ab9-98c2-6b6251bfad35",
   "metadata": {},
   "source": [
    "Вам предоставлен набор данных с логами (действиями) студентов на образовательном портале за весенний семестр (агрегация по каждой неделе) по отдельному электронному курсу.\n",
    "- сourseid — уникальный идентификатор курса, дисциплины;\n",
    "- userid — уникальный идентификатор студента (не используется в обучении);\n",
    "- num_week — номер недели в году;\n",
    "- s_all — количество всех событий на текущий момент;\n",
    "- s_all_avg — среднее количество всех событий в неделю;\n",
    "- s_course_viewed — количество просмотров курса;\n",
    "- s_course_viewed_avg — среднее количество просмотров курса в неделю;\n",
    "- s_q_attempt_viewed — количество просмотров теста;\n",
    "- s_q_attempt_viewed_avg — среднее количество просмотров теста в неделю;\n",
    "- s_a_course_module_viewed — количество просмотров модуля в курсе;\n",
    "- s_a_course_module_viewed_avg — среднее количество просмотров модуля в курсе в неделю;\n",
    "- s_a_submission_status_viewed — количество отправленных заданий на проверку;\n",
    "- s_a_submission_status_viewed_avg — среднее количество ответов;\n",
    "- namer_level — оценка за дисциплину;\n",
    "- depart — номер кафедры;\n",
    "- name_osno — основа обучения (имеет два значения: бюджет или контракт);\n",
    "- name_formopril — форма обучения;\n",
    "- leveled — уровень образования (имеет два значения: бакалавриат, магистратура);\n",
    "- num_sem — номер семестра;\n",
    "- kurs — номер курса учебной группы."
   ]
  },
  {
   "cell_type": "markdown",
   "id": "94c19cff-1a95-4077-a4d8-3e6393f8b39b",
   "metadata": {},
   "source": [
    "Создадим таблицу с логами студентов в тестовой БД"
   ]
  },
  {
   "cell_type": "code",
   "execution_count": 15,
   "id": "31ce274c-2d0f-46ce-a200-8c9445180e7e",
   "metadata": {},
   "outputs": [
    {
     "name": "stdout",
     "output_type": "stream",
     "text": [
      "CREATE TABLE\n"
     ]
    }
   ],
   "source": [
    "!psql -d test -c 'CREATE TABLE logs ( \\\n",
    "    courseid varchar(5), \\\n",
    "    userid varchar(5), \\\n",
    "    num_week smallint, \\\n",
    "    s_all smallint, \\\n",
    "    s_all_avg varchar(10), \\\n",
    "    s_course_viewed smallint, \\\n",
    "    s_course_viewed_avg varchar(10), \\\n",
    "    s_q_attempt_viewed smallint, \\\n",
    "    s_q_attempt_viewed_avg varchar(10), \\\n",
    "    s_a_course_module_viewed smallint, \\\n",
    "    s_a_course_module_viewed_avg varchar(10), \\\n",
    "    s_a_submission_status_viewed smallint, \\\n",
    "    s_a_submission_status_viewed_avg varchar(10), \\\n",
    "    NameR_Level varchar(20), \\\n",
    "    Name_vAtt varchar(20), \\\n",
    "    Depart varchar(5), \\\n",
    "    Name_OsnO smallint, \\\n",
    "    Name_FormOPril smallint, \\\n",
    "    LevelEd smallint, \\\n",
    "    Num_Sem smallint, \\\n",
    "    Kurs smallint, \\\n",
    "    Date_vAtt varchar(20)\\\n",
    ");'"
   ]
  },
  {
   "cell_type": "markdown",
   "id": "4f3d1fd4-9888-458a-9483-34bdfbd028b2",
   "metadata": {},
   "source": [
    "Добавим данные из файла aggrigation_logs_per_week.csv в созданную таблицу.\n"
   ]
  },
  {
   "cell_type": "code",
   "execution_count": 16,
   "id": "a942cf16-b53b-456a-86f0-fa3d6fd0db0e",
   "metadata": {},
   "outputs": [
    {
     "name": "stdout",
     "output_type": "stream",
     "text": [
      "COPY 414528\n"
     ]
    }
   ],
   "source": [
    "!psql -d test \\\n",
    "    -c \"\\copy logs FROM 'datasets/aggrigation_logs_per_week.csv' DELIMITER ',' CSV HEADER;\""
   ]
  },
  {
   "cell_type": "markdown",
   "id": "0d6b5db0-a8dc-4ad6-b0d3-5af6fcb42a57",
   "metadata": {},
   "source": [
    "Выведем первые 10 записей."
   ]
  },
  {
   "cell_type": "code",
   "execution_count": 17,
   "id": "47a908a8-99af-4277-bd1e-50b31459f9a1",
   "metadata": {},
   "outputs": [
    {
     "name": "stdout",
     "output_type": "stream",
     "text": [
      "10 rows affected.\n"
     ]
    },
    {
     "data": {
      "text/html": [
       "<table>\n",
       "    <tr>\n",
       "        <th>courseid</th>\n",
       "        <th>userid</th>\n",
       "        <th>num_week</th>\n",
       "        <th>s_all</th>\n",
       "        <th>s_all_avg</th>\n",
       "        <th>s_course_viewed</th>\n",
       "        <th>s_course_viewed_avg</th>\n",
       "        <th>s_q_attempt_viewed</th>\n",
       "        <th>s_q_attempt_viewed_avg</th>\n",
       "        <th>s_a_course_module_viewed</th>\n",
       "        <th>s_a_course_module_viewed_avg</th>\n",
       "        <th>s_a_submission_status_viewed</th>\n",
       "        <th>s_a_submission_status_viewed_avg</th>\n",
       "        <th>namer_level</th>\n",
       "        <th>name_vatt</th>\n",
       "        <th>depart</th>\n",
       "        <th>name_osno</th>\n",
       "        <th>name_formopril</th>\n",
       "        <th>leveled</th>\n",
       "        <th>num_sem</th>\n",
       "        <th>kurs</th>\n",
       "        <th>date_vatt</th>\n",
       "    </tr>\n",
       "    <tr>\n",
       "        <td>71262</td>\n",
       "        <td>34527</td>\n",
       "        <td>6</td>\n",
       "        <td>9</td>\n",
       "        <td>9</td>\n",
       "        <td>4</td>\n",
       "        <td>4</td>\n",
       "        <td>0</td>\n",
       "        <td>0</td>\n",
       "        <td>0</td>\n",
       "        <td>0</td>\n",
       "        <td>0</td>\n",
       "        <td>0</td>\n",
       "        <td>3</td>\n",
       "        <td>Экзамен</td>\n",
       "        <td>22</td>\n",
       "        <td>1</td>\n",
       "        <td>1</td>\n",
       "        <td>1</td>\n",
       "        <td>2</td>\n",
       "        <td>2</td>\n",
       "        <td>18.06.2022</td>\n",
       "    </tr>\n",
       "    <tr>\n",
       "        <td>71262</td>\n",
       "        <td>34527</td>\n",
       "        <td>7</td>\n",
       "        <td>0</td>\n",
       "        <td>4,5</td>\n",
       "        <td>0</td>\n",
       "        <td>2</td>\n",
       "        <td>0</td>\n",
       "        <td>0</td>\n",
       "        <td>0</td>\n",
       "        <td>0</td>\n",
       "        <td>0</td>\n",
       "        <td>0</td>\n",
       "        <td>3</td>\n",
       "        <td>Экзамен</td>\n",
       "        <td>22</td>\n",
       "        <td>1</td>\n",
       "        <td>1</td>\n",
       "        <td>1</td>\n",
       "        <td>2</td>\n",
       "        <td>2</td>\n",
       "        <td>18.06.2022</td>\n",
       "    </tr>\n",
       "    <tr>\n",
       "        <td>71262</td>\n",
       "        <td>34527</td>\n",
       "        <td>8</td>\n",
       "        <td>0</td>\n",
       "        <td>3</td>\n",
       "        <td>0</td>\n",
       "        <td>1,3333</td>\n",
       "        <td>0</td>\n",
       "        <td>0</td>\n",
       "        <td>0</td>\n",
       "        <td>0</td>\n",
       "        <td>0</td>\n",
       "        <td>0</td>\n",
       "        <td>3</td>\n",
       "        <td>Экзамен</td>\n",
       "        <td>22</td>\n",
       "        <td>1</td>\n",
       "        <td>1</td>\n",
       "        <td>1</td>\n",
       "        <td>2</td>\n",
       "        <td>2</td>\n",
       "        <td>18.06.2022</td>\n",
       "    </tr>\n",
       "    <tr>\n",
       "        <td>71262</td>\n",
       "        <td>34527</td>\n",
       "        <td>9</td>\n",
       "        <td>0</td>\n",
       "        <td>2,25</td>\n",
       "        <td>0</td>\n",
       "        <td>1</td>\n",
       "        <td>0</td>\n",
       "        <td>0</td>\n",
       "        <td>0</td>\n",
       "        <td>0</td>\n",
       "        <td>0</td>\n",
       "        <td>0</td>\n",
       "        <td>3</td>\n",
       "        <td>Экзамен</td>\n",
       "        <td>22</td>\n",
       "        <td>1</td>\n",
       "        <td>1</td>\n",
       "        <td>1</td>\n",
       "        <td>2</td>\n",
       "        <td>2</td>\n",
       "        <td>18.06.2022</td>\n",
       "    </tr>\n",
       "    <tr>\n",
       "        <td>71262</td>\n",
       "        <td>34527</td>\n",
       "        <td>10</td>\n",
       "        <td>0</td>\n",
       "        <td>1,8</td>\n",
       "        <td>0</td>\n",
       "        <td>0,8</td>\n",
       "        <td>0</td>\n",
       "        <td>0</td>\n",
       "        <td>0</td>\n",
       "        <td>0</td>\n",
       "        <td>0</td>\n",
       "        <td>0</td>\n",
       "        <td>3</td>\n",
       "        <td>Экзамен</td>\n",
       "        <td>22</td>\n",
       "        <td>1</td>\n",
       "        <td>1</td>\n",
       "        <td>1</td>\n",
       "        <td>2</td>\n",
       "        <td>2</td>\n",
       "        <td>18.06.2022</td>\n",
       "    </tr>\n",
       "    <tr>\n",
       "        <td>71262</td>\n",
       "        <td>34527</td>\n",
       "        <td>11</td>\n",
       "        <td>1</td>\n",
       "        <td>1,6667</td>\n",
       "        <td>1</td>\n",
       "        <td>0,8333</td>\n",
       "        <td>0</td>\n",
       "        <td>0</td>\n",
       "        <td>0</td>\n",
       "        <td>0</td>\n",
       "        <td>0</td>\n",
       "        <td>0</td>\n",
       "        <td>3</td>\n",
       "        <td>Экзамен</td>\n",
       "        <td>22</td>\n",
       "        <td>1</td>\n",
       "        <td>1</td>\n",
       "        <td>1</td>\n",
       "        <td>2</td>\n",
       "        <td>2</td>\n",
       "        <td>18.06.2022</td>\n",
       "    </tr>\n",
       "    <tr>\n",
       "        <td>71262</td>\n",
       "        <td>34527</td>\n",
       "        <td>12</td>\n",
       "        <td>0</td>\n",
       "        <td>1,4286</td>\n",
       "        <td>0</td>\n",
       "        <td>0,7143</td>\n",
       "        <td>0</td>\n",
       "        <td>0</td>\n",
       "        <td>0</td>\n",
       "        <td>0</td>\n",
       "        <td>0</td>\n",
       "        <td>0</td>\n",
       "        <td>3</td>\n",
       "        <td>Экзамен</td>\n",
       "        <td>22</td>\n",
       "        <td>1</td>\n",
       "        <td>1</td>\n",
       "        <td>1</td>\n",
       "        <td>2</td>\n",
       "        <td>2</td>\n",
       "        <td>18.06.2022</td>\n",
       "    </tr>\n",
       "    <tr>\n",
       "        <td>71262</td>\n",
       "        <td>34527</td>\n",
       "        <td>13</td>\n",
       "        <td>0</td>\n",
       "        <td>1,25</td>\n",
       "        <td>0</td>\n",
       "        <td>0,625</td>\n",
       "        <td>0</td>\n",
       "        <td>0</td>\n",
       "        <td>0</td>\n",
       "        <td>0</td>\n",
       "        <td>0</td>\n",
       "        <td>0</td>\n",
       "        <td>3</td>\n",
       "        <td>Экзамен</td>\n",
       "        <td>22</td>\n",
       "        <td>1</td>\n",
       "        <td>1</td>\n",
       "        <td>1</td>\n",
       "        <td>2</td>\n",
       "        <td>2</td>\n",
       "        <td>18.06.2022</td>\n",
       "    </tr>\n",
       "    <tr>\n",
       "        <td>71262</td>\n",
       "        <td>34527</td>\n",
       "        <td>14</td>\n",
       "        <td>0</td>\n",
       "        <td>1,1111</td>\n",
       "        <td>0</td>\n",
       "        <td>0,5556</td>\n",
       "        <td>0</td>\n",
       "        <td>0</td>\n",
       "        <td>0</td>\n",
       "        <td>0</td>\n",
       "        <td>0</td>\n",
       "        <td>0</td>\n",
       "        <td>3</td>\n",
       "        <td>Экзамен</td>\n",
       "        <td>22</td>\n",
       "        <td>1</td>\n",
       "        <td>1</td>\n",
       "        <td>1</td>\n",
       "        <td>2</td>\n",
       "        <td>2</td>\n",
       "        <td>18.06.2022</td>\n",
       "    </tr>\n",
       "    <tr>\n",
       "        <td>71262</td>\n",
       "        <td>34527</td>\n",
       "        <td>15</td>\n",
       "        <td>1</td>\n",
       "        <td>1,1</td>\n",
       "        <td>1</td>\n",
       "        <td>0,6</td>\n",
       "        <td>0</td>\n",
       "        <td>0</td>\n",
       "        <td>0</td>\n",
       "        <td>0</td>\n",
       "        <td>0</td>\n",
       "        <td>0</td>\n",
       "        <td>3</td>\n",
       "        <td>Экзамен</td>\n",
       "        <td>22</td>\n",
       "        <td>1</td>\n",
       "        <td>1</td>\n",
       "        <td>1</td>\n",
       "        <td>2</td>\n",
       "        <td>2</td>\n",
       "        <td>18.06.2022</td>\n",
       "    </tr>\n",
       "</table>"
      ],
      "text/plain": [
       "[('71262', '34527', 6, 9, '9', 4, '4', 0, '0', 0, '0', 0, '0', '3', 'Экзамен', '22', 1, 1, 1, 2, 2, '18.06.2022'),\n",
       " ('71262', '34527', 7, 0, '4,5', 0, '2', 0, '0', 0, '0', 0, '0', '3', 'Экзамен', '22', 1, 1, 1, 2, 2, '18.06.2022'),\n",
       " ('71262', '34527', 8, 0, '3', 0, '1,3333', 0, '0', 0, '0', 0, '0', '3', 'Экзамен', '22', 1, 1, 1, 2, 2, '18.06.2022'),\n",
       " ('71262', '34527', 9, 0, '2,25', 0, '1', 0, '0', 0, '0', 0, '0', '3', 'Экзамен', '22', 1, 1, 1, 2, 2, '18.06.2022'),\n",
       " ('71262', '34527', 10, 0, '1,8', 0, '0,8', 0, '0', 0, '0', 0, '0', '3', 'Экзамен', '22', 1, 1, 1, 2, 2, '18.06.2022'),\n",
       " ('71262', '34527', 11, 1, '1,6667', 1, '0,8333', 0, '0', 0, '0', 0, '0', '3', 'Экзамен', '22', 1, 1, 1, 2, 2, '18.06.2022'),\n",
       " ('71262', '34527', 12, 0, '1,4286', 0, '0,7143', 0, '0', 0, '0', 0, '0', '3', 'Экзамен', '22', 1, 1, 1, 2, 2, '18.06.2022'),\n",
       " ('71262', '34527', 13, 0, '1,25', 0, '0,625', 0, '0', 0, '0', 0, '0', '3', 'Экзамен', '22', 1, 1, 1, 2, 2, '18.06.2022'),\n",
       " ('71262', '34527', 14, 0, '1,1111', 0, '0,5556', 0, '0', 0, '0', 0, '0', '3', 'Экзамен', '22', 1, 1, 1, 2, 2, '18.06.2022'),\n",
       " ('71262', '34527', 15, 1, '1,1', 1, '0,6', 0, '0', 0, '0', 0, '0', '3', 'Экзамен', '22', 1, 1, 1, 2, 2, '18.06.2022')]"
      ]
     },
     "execution_count": 17,
     "metadata": {},
     "output_type": "execute_result"
    }
   ],
   "source": [
    "%%sql postgresql:///test\n",
    "    SELECT * FROM logs LIMIT 10"
   ]
  },
  {
   "cell_type": "markdown",
   "id": "81903c93-1df6-484d-b254-7ab7c9db6d13",
   "metadata": {},
   "source": [
    "## Задание 1:\n",
    "\n",
    "Измените данные вещественного типа, сейчас целая и дробная часть разделены запятой, замените ее на точку. \n",
    "\n",
    "Выведите первые 10 записей, чтобы проверить результат предобработки. "
   ]
  },
  {
   "cell_type": "code",
   "execution_count": 18,
   "id": "2a76e807-2b37-4b36-9b1f-0fbed6d1b567",
   "metadata": {},
   "outputs": [
    {
     "name": "stdout",
     "output_type": "stream",
     "text": [
      "414528 rows affected.\n",
      "10 rows affected.\n"
     ]
    },
    {
     "data": {
      "text/html": [
       "<table>\n",
       "    <tr>\n",
       "        <th>courseid</th>\n",
       "        <th>userid</th>\n",
       "        <th>num_week</th>\n",
       "        <th>s_all</th>\n",
       "        <th>s_all_avg</th>\n",
       "        <th>s_course_viewed</th>\n",
       "        <th>s_course_viewed_avg</th>\n",
       "        <th>s_q_attempt_viewed</th>\n",
       "        <th>s_q_attempt_viewed_avg</th>\n",
       "        <th>s_a_course_module_viewed</th>\n",
       "        <th>s_a_course_module_viewed_avg</th>\n",
       "        <th>s_a_submission_status_viewed</th>\n",
       "        <th>s_a_submission_status_viewed_avg</th>\n",
       "        <th>namer_level</th>\n",
       "        <th>name_vatt</th>\n",
       "        <th>depart</th>\n",
       "        <th>name_osno</th>\n",
       "        <th>name_formopril</th>\n",
       "        <th>leveled</th>\n",
       "        <th>num_sem</th>\n",
       "        <th>kurs</th>\n",
       "        <th>date_vatt</th>\n",
       "    </tr>\n",
       "    <tr>\n",
       "        <td>71269</td>\n",
       "        <td>7003</td>\n",
       "        <td>6</td>\n",
       "        <td>0</td>\n",
       "        <td>0</td>\n",
       "        <td>0</td>\n",
       "        <td>0</td>\n",
       "        <td>0</td>\n",
       "        <td>0</td>\n",
       "        <td>0</td>\n",
       "        <td>0</td>\n",
       "        <td>0</td>\n",
       "        <td>0</td>\n",
       "        <td>2</td>\n",
       "        <td>Экзамен</td>\n",
       "        <td>22</td>\n",
       "        <td>2</td>\n",
       "        <td>1</td>\n",
       "        <td>1</td>\n",
       "        <td>4</td>\n",
       "        <td>3</td>\n",
       "        <td>23.06.2022</td>\n",
       "    </tr>\n",
       "    <tr>\n",
       "        <td>71279</td>\n",
       "        <td>34612</td>\n",
       "        <td>6</td>\n",
       "        <td>0</td>\n",
       "        <td>0</td>\n",
       "        <td>0</td>\n",
       "        <td>0</td>\n",
       "        <td>0</td>\n",
       "        <td>0</td>\n",
       "        <td>0</td>\n",
       "        <td>0</td>\n",
       "        <td>0</td>\n",
       "        <td>0</td>\n",
       "        <td>2</td>\n",
       "        <td>Экзамен</td>\n",
       "        <td>22</td>\n",
       "        <td>1</td>\n",
       "        <td>1</td>\n",
       "        <td>1</td>\n",
       "        <td>2</td>\n",
       "        <td>2</td>\n",
       "        <td>22.06.2022</td>\n",
       "    </tr>\n",
       "    <tr>\n",
       "        <td>71349</td>\n",
       "        <td>35931</td>\n",
       "        <td>6</td>\n",
       "        <td>0</td>\n",
       "        <td>0</td>\n",
       "        <td>0</td>\n",
       "        <td>0</td>\n",
       "        <td>0</td>\n",
       "        <td>0</td>\n",
       "        <td>0</td>\n",
       "        <td>0</td>\n",
       "        <td>0</td>\n",
       "        <td>0</td>\n",
       "        <td>3</td>\n",
       "        <td>Экзамен</td>\n",
       "        <td>35</td>\n",
       "        <td>1</td>\n",
       "        <td>1</td>\n",
       "        <td>1</td>\n",
       "        <td>2</td>\n",
       "        <td>2</td>\n",
       "        <td>22.06.2022</td>\n",
       "    </tr>\n",
       "    <tr>\n",
       "        <td>71352</td>\n",
       "        <td>29333</td>\n",
       "        <td>21</td>\n",
       "        <td>68</td>\n",
       "        <td>13.625</td>\n",
       "        <td>9</td>\n",
       "        <td>2.875</td>\n",
       "        <td>0</td>\n",
       "        <td>0</td>\n",
       "        <td>24</td>\n",
       "        <td>3.3125</td>\n",
       "        <td>13</td>\n",
       "        <td>2</td>\n",
       "        <td>5</td>\n",
       "        <td>Экзамен</td>\n",
       "        <td>1</td>\n",
       "        <td>1</td>\n",
       "        <td>1</td>\n",
       "        <td>1</td>\n",
       "        <td>4</td>\n",
       "        <td>3</td>\n",
       "        <td>15.06.2022</td>\n",
       "    </tr>\n",
       "    <tr>\n",
       "        <td>71357</td>\n",
       "        <td>33422</td>\n",
       "        <td>11</td>\n",
       "        <td>4</td>\n",
       "        <td>20</td>\n",
       "        <td>1</td>\n",
       "        <td>5.5</td>\n",
       "        <td>0</td>\n",
       "        <td>0</td>\n",
       "        <td>0</td>\n",
       "        <td>2</td>\n",
       "        <td>0</td>\n",
       "        <td>1.6667</td>\n",
       "        <td>5</td>\n",
       "        <td>Экзамен</td>\n",
       "        <td>1</td>\n",
       "        <td>1</td>\n",
       "        <td>1</td>\n",
       "        <td>1</td>\n",
       "        <td>2</td>\n",
       "        <td>2</td>\n",
       "        <td>24.06.2022</td>\n",
       "    </tr>\n",
       "    <tr>\n",
       "        <td>71357</td>\n",
       "        <td>33429</td>\n",
       "        <td>6</td>\n",
       "        <td>16</td>\n",
       "        <td>16</td>\n",
       "        <td>5</td>\n",
       "        <td>5</td>\n",
       "        <td>0</td>\n",
       "        <td>0</td>\n",
       "        <td>0</td>\n",
       "        <td>0</td>\n",
       "        <td>0</td>\n",
       "        <td>0</td>\n",
       "        <td>5</td>\n",
       "        <td>Экзамен</td>\n",
       "        <td>1</td>\n",
       "        <td>1</td>\n",
       "        <td>1</td>\n",
       "        <td>1</td>\n",
       "        <td>2</td>\n",
       "        <td>2</td>\n",
       "        <td>24.06.2022</td>\n",
       "    </tr>\n",
       "    <tr>\n",
       "        <td>71357</td>\n",
       "        <td>33437</td>\n",
       "        <td>6</td>\n",
       "        <td>0</td>\n",
       "        <td>0</td>\n",
       "        <td>0</td>\n",
       "        <td>0</td>\n",
       "        <td>0</td>\n",
       "        <td>0</td>\n",
       "        <td>0</td>\n",
       "        <td>0</td>\n",
       "        <td>0</td>\n",
       "        <td>0</td>\n",
       "        <td>5</td>\n",
       "        <td>Экзамен</td>\n",
       "        <td>1</td>\n",
       "        <td>1</td>\n",
       "        <td>1</td>\n",
       "        <td>1</td>\n",
       "        <td>2</td>\n",
       "        <td>2</td>\n",
       "        <td>24.06.2022</td>\n",
       "    </tr>\n",
       "    <tr>\n",
       "        <td>71402</td>\n",
       "        <td>13700</td>\n",
       "        <td>13</td>\n",
       "        <td>0</td>\n",
       "        <td>7.25</td>\n",
       "        <td>0</td>\n",
       "        <td>2.125</td>\n",
       "        <td>0</td>\n",
       "        <td>0</td>\n",
       "        <td>0</td>\n",
       "        <td>1.125</td>\n",
       "        <td>0</td>\n",
       "        <td>0.875</td>\n",
       "        <td>2</td>\n",
       "        <td>Экзамен</td>\n",
       "        <td>1</td>\n",
       "        <td>1</td>\n",
       "        <td>1</td>\n",
       "        <td>1</td>\n",
       "        <td>6</td>\n",
       "        <td>4</td>\n",
       "        <td>24.06.2022</td>\n",
       "    </tr>\n",
       "    <tr>\n",
       "        <td>71402</td>\n",
       "        <td>24497</td>\n",
       "        <td>6</td>\n",
       "        <td>37</td>\n",
       "        <td>37</td>\n",
       "        <td>11</td>\n",
       "        <td>11</td>\n",
       "        <td>0</td>\n",
       "        <td>0</td>\n",
       "        <td>0</td>\n",
       "        <td>0</td>\n",
       "        <td>0</td>\n",
       "        <td>0</td>\n",
       "        <td>5</td>\n",
       "        <td>Экзамен</td>\n",
       "        <td>1</td>\n",
       "        <td>1</td>\n",
       "        <td>1</td>\n",
       "        <td>1</td>\n",
       "        <td>6</td>\n",
       "        <td>4</td>\n",
       "        <td>24.06.2022</td>\n",
       "    </tr>\n",
       "    <tr>\n",
       "        <td>71409</td>\n",
       "        <td>21973</td>\n",
       "        <td>25</td>\n",
       "        <td>0</td>\n",
       "        <td>13.25</td>\n",
       "        <td>0</td>\n",
       "        <td>2.15</td>\n",
       "        <td>0</td>\n",
       "        <td>0</td>\n",
       "        <td>0</td>\n",
       "        <td>2.8</td>\n",
       "        <td>0</td>\n",
       "        <td>1.95</td>\n",
       "        <td>5</td>\n",
       "        <td>Экзамен</td>\n",
       "        <td>1</td>\n",
       "        <td>1</td>\n",
       "        <td>1</td>\n",
       "        <td>1</td>\n",
       "        <td>8</td>\n",
       "        <td>5</td>\n",
       "        <td>20.06.2022</td>\n",
       "    </tr>\n",
       "</table>"
      ],
      "text/plain": [
       "[('71269', '7003', 6, 0, '0', 0, '0', 0, '0', 0, '0', 0, '0', '2', 'Экзамен', '22', 2, 1, 1, 4, 3, '23.06.2022'),\n",
       " ('71279', '34612', 6, 0, '0', 0, '0', 0, '0', 0, '0', 0, '0', '2', 'Экзамен', '22', 1, 1, 1, 2, 2, '22.06.2022'),\n",
       " ('71349', '35931', 6, 0, '0', 0, '0', 0, '0', 0, '0', 0, '0', '3', 'Экзамен', '35', 1, 1, 1, 2, 2, '22.06.2022'),\n",
       " ('71352', '29333', 21, 68, '13.625', 9, '2.875', 0, '0', 24, '3.3125', 13, '2', '5', 'Экзамен', '1', 1, 1, 1, 4, 3, '15.06.2022'),\n",
       " ('71357', '33422', 11, 4, '20', 1, '5.5', 0, '0', 0, '2', 0, '1.6667', '5', 'Экзамен', '1', 1, 1, 1, 2, 2, '24.06.2022'),\n",
       " ('71357', '33429', 6, 16, '16', 5, '5', 0, '0', 0, '0', 0, '0', '5', 'Экзамен', '1', 1, 1, 1, 2, 2, '24.06.2022'),\n",
       " ('71357', '33437', 6, 0, '0', 0, '0', 0, '0', 0, '0', 0, '0', '5', 'Экзамен', '1', 1, 1, 1, 2, 2, '24.06.2022'),\n",
       " ('71402', '13700', 13, 0, '7.25', 0, '2.125', 0, '0', 0, '1.125', 0, '0.875', '2', 'Экзамен', '1', 1, 1, 1, 6, 4, '24.06.2022'),\n",
       " ('71402', '24497', 6, 37, '37', 11, '11', 0, '0', 0, '0', 0, '0', '5', 'Экзамен', '1', 1, 1, 1, 6, 4, '24.06.2022'),\n",
       " ('71409', '21973', 25, 0, '13.25', 0, '2.15', 0, '0', 0, '2.8', 0, '1.95', '5', 'Экзамен', '1', 1, 1, 1, 8, 5, '20.06.2022')]"
      ]
     },
     "execution_count": 18,
     "metadata": {},
     "output_type": "execute_result"
    }
   ],
   "source": [
    "%%sql postgresql:///test\n",
    "\n",
    "UPDATE logs \n",
    "\n",
    "SET \n",
    "    s_all_avg = REPLACE(s_all_avg, ',', '.'),\n",
    "    s_course_viewed_avg = REPLACE(s_course_viewed_avg, ',', '.'),\n",
    "    s_q_attempt_viewed_avg = REPLACE(s_q_attempt_viewed_avg, ',', '.'),\n",
    "    s_a_course_module_viewed_avg = REPLACE(s_a_course_module_viewed_avg, ',', '.'),\n",
    "    s_a_submission_status_viewed_avg = REPLACE(s_a_submission_status_viewed_avg, ',', '.');\n",
    "\n",
    "SELECT * FROM logs LIMIT 10;"
   ]
  },
  {
   "cell_type": "markdown",
   "id": "24c872f9-fbee-4126-b43b-3223372f0227",
   "metadata": {},
   "source": [
    "## Задание 2: \n",
    "\n",
    "Выведите количество кафедр, за которыми закреплены курсы на портале.\n",
    "\n",
    "\n",
    "\n"
   ]
  },
  {
   "cell_type": "code",
   "execution_count": 19,
   "id": "00c664b9-424c-47d7-96a8-2bb1f603c194",
   "metadata": {},
   "outputs": [
    {
     "name": "stdout",
     "output_type": "stream",
     "text": [
      "1 rows affected.\n"
     ]
    },
    {
     "data": {
      "text/html": [
       "<table>\n",
       "    <tr>\n",
       "        <th>count</th>\n",
       "    </tr>\n",
       "    <tr>\n",
       "        <td>43</td>\n",
       "    </tr>\n",
       "</table>"
      ],
      "text/plain": [
       "[(43,)]"
      ]
     },
     "execution_count": 19,
     "metadata": {},
     "output_type": "execute_result"
    }
   ],
   "source": [
    "%%sql postgresql:///test\n",
    "SELECT COUNT(DISTINCT depart) FROM logs;"
   ]
  },
  {
   "cell_type": "markdown",
   "id": "d98cb395-0b2d-41ab-9a91-af59a4bc9ec8",
   "metadata": {},
   "source": [
    "##  Задание 3:\n",
    "\n",
    "Выведите сколько у каждой кафедры закреплено электронных курсов на портале. \n",
    "\n",
    "У какой кафедры больше всего курсов на портале?"
   ]
  },
  {
   "cell_type": "code",
   "execution_count": 20,
   "id": "e9a4e137-4da9-4ef3-98e7-8f98e0a98db0",
   "metadata": {},
   "outputs": [
    {
     "name": "stdout",
     "output_type": "stream",
     "text": [
      "43 rows affected.\n"
     ]
    },
    {
     "data": {
      "text/html": [
       "<table>\n",
       "    <tr>\n",
       "        <th>depart</th>\n",
       "        <th>course_count</th>\n",
       "    </tr>\n",
       "    <tr>\n",
       "        <td>11</td>\n",
       "        <td>53</td>\n",
       "    </tr>\n",
       "    <tr>\n",
       "        <td>19</td>\n",
       "        <td>42</td>\n",
       "    </tr>\n",
       "    <tr>\n",
       "        <td>23</td>\n",
       "        <td>42</td>\n",
       "    </tr>\n",
       "    <tr>\n",
       "        <td>8</td>\n",
       "        <td>40</td>\n",
       "    </tr>\n",
       "    <tr>\n",
       "        <td>15</td>\n",
       "        <td>36</td>\n",
       "    </tr>\n",
       "    <tr>\n",
       "        <td>4</td>\n",
       "        <td>35</td>\n",
       "    </tr>\n",
       "    <tr>\n",
       "        <td>9</td>\n",
       "        <td>35</td>\n",
       "    </tr>\n",
       "    <tr>\n",
       "        <td>21</td>\n",
       "        <td>33</td>\n",
       "    </tr>\n",
       "    <tr>\n",
       "        <td>14</td>\n",
       "        <td>33</td>\n",
       "    </tr>\n",
       "    <tr>\n",
       "        <td>3</td>\n",
       "        <td>33</td>\n",
       "    </tr>\n",
       "    <tr>\n",
       "        <td>41</td>\n",
       "        <td>32</td>\n",
       "    </tr>\n",
       "    <tr>\n",
       "        <td>20</td>\n",
       "        <td>32</td>\n",
       "    </tr>\n",
       "    <tr>\n",
       "        <td>31</td>\n",
       "        <td>30</td>\n",
       "    </tr>\n",
       "    <tr>\n",
       "        <td>7</td>\n",
       "        <td>29</td>\n",
       "    </tr>\n",
       "    <tr>\n",
       "        <td>26</td>\n",
       "        <td>28</td>\n",
       "    </tr>\n",
       "    <tr>\n",
       "        <td>16</td>\n",
       "        <td>28</td>\n",
       "    </tr>\n",
       "    <tr>\n",
       "        <td>18</td>\n",
       "        <td>28</td>\n",
       "    </tr>\n",
       "    <tr>\n",
       "        <td>6</td>\n",
       "        <td>25</td>\n",
       "    </tr>\n",
       "    <tr>\n",
       "        <td>24</td>\n",
       "        <td>23</td>\n",
       "    </tr>\n",
       "    <tr>\n",
       "        <td>5</td>\n",
       "        <td>22</td>\n",
       "    </tr>\n",
       "    <tr>\n",
       "        <td>32</td>\n",
       "        <td>21</td>\n",
       "    </tr>\n",
       "    <tr>\n",
       "        <td>43</td>\n",
       "        <td>20</td>\n",
       "    </tr>\n",
       "    <tr>\n",
       "        <td>10</td>\n",
       "        <td>20</td>\n",
       "    </tr>\n",
       "    <tr>\n",
       "        <td>17</td>\n",
       "        <td>20</td>\n",
       "    </tr>\n",
       "    <tr>\n",
       "        <td>22</td>\n",
       "        <td>19</td>\n",
       "    </tr>\n",
       "    <tr>\n",
       "        <td>30</td>\n",
       "        <td>19</td>\n",
       "    </tr>\n",
       "    <tr>\n",
       "        <td>29</td>\n",
       "        <td>19</td>\n",
       "    </tr>\n",
       "    <tr>\n",
       "        <td>1</td>\n",
       "        <td>19</td>\n",
       "    </tr>\n",
       "    <tr>\n",
       "        <td>37</td>\n",
       "        <td>18</td>\n",
       "    </tr>\n",
       "    <tr>\n",
       "        <td>38</td>\n",
       "        <td>18</td>\n",
       "    </tr>\n",
       "    <tr>\n",
       "        <td>27</td>\n",
       "        <td>17</td>\n",
       "    </tr>\n",
       "    <tr>\n",
       "        <td>12</td>\n",
       "        <td>16</td>\n",
       "    </tr>\n",
       "    <tr>\n",
       "        <td>35</td>\n",
       "        <td>16</td>\n",
       "    </tr>\n",
       "    <tr>\n",
       "        <td>40</td>\n",
       "        <td>16</td>\n",
       "    </tr>\n",
       "    <tr>\n",
       "        <td>42</td>\n",
       "        <td>16</td>\n",
       "    </tr>\n",
       "    <tr>\n",
       "        <td>2</td>\n",
       "        <td>16</td>\n",
       "    </tr>\n",
       "    <tr>\n",
       "        <td>33</td>\n",
       "        <td>15</td>\n",
       "    </tr>\n",
       "    <tr>\n",
       "        <td>28</td>\n",
       "        <td>14</td>\n",
       "    </tr>\n",
       "    <tr>\n",
       "        <td>25</td>\n",
       "        <td>11</td>\n",
       "    </tr>\n",
       "    <tr>\n",
       "        <td>36</td>\n",
       "        <td>5</td>\n",
       "    </tr>\n",
       "    <tr>\n",
       "        <td>39</td>\n",
       "        <td>4</td>\n",
       "    </tr>\n",
       "    <tr>\n",
       "        <td>13</td>\n",
       "        <td>3</td>\n",
       "    </tr>\n",
       "    <tr>\n",
       "        <td>34</td>\n",
       "        <td>2</td>\n",
       "    </tr>\n",
       "</table>"
      ],
      "text/plain": [
       "[('11', 53),\n",
       " ('19', 42),\n",
       " ('23', 42),\n",
       " ('8', 40),\n",
       " ('15', 36),\n",
       " ('4', 35),\n",
       " ('9', 35),\n",
       " ('21', 33),\n",
       " ('14', 33),\n",
       " ('3', 33),\n",
       " ('41', 32),\n",
       " ('20', 32),\n",
       " ('31', 30),\n",
       " ('7', 29),\n",
       " ('26', 28),\n",
       " ('16', 28),\n",
       " ('18', 28),\n",
       " ('6', 25),\n",
       " ('24', 23),\n",
       " ('5', 22),\n",
       " ('32', 21),\n",
       " ('43', 20),\n",
       " ('10', 20),\n",
       " ('17', 20),\n",
       " ('22', 19),\n",
       " ('30', 19),\n",
       " ('29', 19),\n",
       " ('1', 19),\n",
       " ('37', 18),\n",
       " ('38', 18),\n",
       " ('27', 17),\n",
       " ('12', 16),\n",
       " ('35', 16),\n",
       " ('40', 16),\n",
       " ('42', 16),\n",
       " ('2', 16),\n",
       " ('33', 15),\n",
       " ('28', 14),\n",
       " ('25', 11),\n",
       " ('36', 5),\n",
       " ('39', 4),\n",
       " ('13', 3),\n",
       " ('34', 2)]"
      ]
     },
     "execution_count": 20,
     "metadata": {},
     "output_type": "execute_result"
    }
   ],
   "source": [
    "%%sql postgresql:///test\n",
    "SELECT depart, COUNT(DISTINCT courseid) AS course_count\n",
    "FROM logs\n",
    "GROUP BY depart\n",
    "ORDER BY course_count DESC;"
   ]
  },
  {
   "cell_type": "markdown",
   "id": "5e8aa54c-0d5c-48e9-b181-08b03804ce0c",
   "metadata": {},
   "source": [
    "## Задание 4:\n",
    "\n",
    "Имеется информация о кодировании каждой кафедры:\n",
    "\n",
    "| Id  | Name     | Id  | Name     | Id  | Name     | Id  | Name     |\n",
    "|-----|---------|-----|---------|-----|---------|-----|---------|\n",
    "| 1   | АиИИ    | 12  | ИиИБ    | 23  | ПОиД    | 34  | УСиБА    |\n",
    "| 2   | АСУ     | 13  | ИТМ     | 24  | Психол. | 35  | Физики   |\n",
    "| 3   | АЭПиМ   | 14  | ЛиП     | 25  | ПЭиБЖД  | 36  | Физкульт.|\n",
    "| 4   | БИиИТ   | 15  | ЛиУТС   | 26  | РМПИ    | 37  | Химии    |\n",
    "| 5   | ВИ      | 16  | ЛПиМ    | 27  | РЯОЯиМК | 38  | ХОМ      |\n",
    "| 6   | ВТиП    | 17  | Менеджм.| 28  | СРиППО  | 39  | ЦДОМ     |\n",
    "| 7   | ГМДиОПИ | 18  | МиТОДиМ | 29  | CC      | 40  | ЭиМЭ     |\n",
    "| 8   | ГМиТТК  | 19  | МиХТ    | 30  | ТиЭС    | 41  | Эконом.  |\n",
    "| 9   | ГМУиУП  | 20  | ПиСЗ    | 31  | ТОМ     | 42  | ЭПП      |\n",
    "| 10  | Дизайна | 21  | ПиЭММО  | 32  | ТССА    | 43  | ЯиЛ      |\n",
    "| 11  | ДиСО    | 22  | ПМиИ    | 33  | УиИС    |     |          |\n",
    "\n",
    "\n",
    "Создайте отдельно таблицу со справочником (номер кафедры и название(аббревиатура) кафедры) departments.\n",
    "\n",
    "Внесите данные в таблицу. "
   ]
  },
  {
   "cell_type": "code",
   "execution_count": 21,
   "id": "c1d9a47c-bb5b-4469-adcb-8a3e61ce8412",
   "metadata": {},
   "outputs": [
    {
     "name": "stdout",
     "output_type": "stream",
     "text": [
      "Done.\n"
     ]
    },
    {
     "data": {
      "text/plain": [
       "[]"
      ]
     },
     "execution_count": 21,
     "metadata": {},
     "output_type": "execute_result"
    }
   ],
   "source": [
    "%%sql postgresql:///test\n",
    "\n",
    "CREATE TABLE departments (\n",
    "    id int PRIMARY KEY,\n",
    "    name varchar(20)\n",
    ");"
   ]
  },
  {
   "cell_type": "code",
   "execution_count": 22,
   "id": "ca550ef2-9264-41f8-8944-e086bd2ee831",
   "metadata": {},
   "outputs": [
    {
     "name": "stdout",
     "output_type": "stream",
     "text": [
      "43 rows affected.\n"
     ]
    },
    {
     "data": {
      "text/plain": [
       "[]"
      ]
     },
     "execution_count": 22,
     "metadata": {},
     "output_type": "execute_result"
    }
   ],
   "source": [
    "%%sql postgresql:///test\n",
    "\n",
    "INSERT INTO departments VALUES\n",
    "(1, 'АиИИ'), (2, 'АСУ'), (3, 'АЭПиМ'), (4, 'БИиИТ'), (5, 'ВИ'), \n",
    "(6, 'ВТиП'), (7, 'ГМДиОПИ'), (8, 'ГМиТТК'), (9, 'ГМУиУП'), (10, 'Дизайна'),\n",
    "(11, 'ДиСО'), (12, 'ИиИБ'), (13, 'ИТМ'), (14, 'ЛиП'), (15, 'ЛиУТС'),\n",
    "(16, 'ЛПиМ'), (17, 'Менеджм.'), (18, 'МиТОДиМ'), (19, 'МиХТ'), (20, 'ПиСЗ'),\n",
    "(21, 'ПиЭММО'), (22, 'ПМиИ'), (23, 'ПОиД'), (24, 'Психол.'), (25, 'ПЭиБЖД'),\n",
    "(26, 'РМПИ'), (27, 'РЯОЯиМК'), (28, 'СРиППО'), (29, 'CC'), (30, 'ТиЭС'),\n",
    "(31, 'ТОМ'), (32, 'ТССА'), (33, 'УиИС'), (34, 'УСиБА'), (35, 'Физики'),\n",
    "(36, 'Физкульт.'), (37, 'Химии'), (38, 'ХОМ'), (39, 'ЦДОМ'), (40, 'ЭиМЭ'),\n",
    "(41, 'Эконом.'), (42, 'ЭПП'), (43, 'ЯиЛ');"
   ]
  },
  {
   "cell_type": "markdown",
   "id": "479df567-bfb3-4a98-8131-ee5e75b638ac",
   "metadata": {},
   "source": [
    "## Задание 5:\n",
    "\n",
    "Выполните задание 3, но теперь нужно вывести не код кафедры, а ее название и количество курсов, которые за ней закреплены. \n",
    "\n",
    "У какой кафедры больше всего курсов?"
   ]
  },
  {
   "cell_type": "code",
   "execution_count": 23,
   "id": "beb3de35-593a-4c11-8ad4-2803412f41b9",
   "metadata": {},
   "outputs": [
    {
     "name": "stdout",
     "output_type": "stream",
     "text": [
      "1 rows affected.\n"
     ]
    },
    {
     "data": {
      "text/html": [
       "<table>\n",
       "    <tr>\n",
       "        <th>name</th>\n",
       "        <th>course_count</th>\n",
       "    </tr>\n",
       "    <tr>\n",
       "        <td>ДиСО</td>\n",
       "        <td>53</td>\n",
       "    </tr>\n",
       "</table>"
      ],
      "text/plain": [
       "[('ДиСО', 53)]"
      ]
     },
     "execution_count": 23,
     "metadata": {},
     "output_type": "execute_result"
    }
   ],
   "source": [
    "%%sql postgresql:///test\n",
    "SELECT departments.name, COUNT(DISTINCT courseid) AS course_count\n",
    "FROM logs\n",
    "JOIN departments ON logs.depart = departments.id::varchar\n",
    "GROUP BY departments.name\n",
    "ORDER BY course_count DESC\n",
    "LIMIT 1;"
   ]
  },
  {
   "cell_type": "markdown",
   "id": "6fa6c914-75da-4327-a55a-878653561e56",
   "metadata": {},
   "source": [
    "## Задание 6:\n",
    "\n",
    "Ответьте на вопрос: существуют ли курсы, за которыми закреплено несколько кафедр? Если такие курсы есть, то выведите их количество.\n",
    "Также выведите названия кафедр, которые совместно преподают один и тот же курс.\n",
    "\n",
    "\n"
   ]
  },
  {
   "cell_type": "code",
   "execution_count": 24,
   "id": "dcf13153-9daf-4635-8c62-53809aaea006",
   "metadata": {},
   "outputs": [
    {
     "name": "stdout",
     "output_type": "stream",
     "text": [
      "1 rows affected.\n"
     ]
    },
    {
     "data": {
      "text/html": [
       "<table>\n",
       "    <tr>\n",
       "        <th>count</th>\n",
       "    </tr>\n",
       "    <tr>\n",
       "        <td>60</td>\n",
       "    </tr>\n",
       "</table>"
      ],
      "text/plain": [
       "[(60,)]"
      ]
     },
     "execution_count": 24,
     "metadata": {},
     "output_type": "execute_result"
    }
   ],
   "source": [
    "%%sql postgresql:///test\n",
    "\n",
    "SELECT COUNT(*)\n",
    "FROM (\n",
    "    SELECT courseid\n",
    "    FROM logs\n",
    "    GROUP BY courseid\n",
    "    HAVING COUNT(DISTINCT depart) > 1\n",
    ");"
   ]
  },
  {
   "cell_type": "code",
   "execution_count": 25,
   "id": "3c706fbe-072d-4c7c-9f4c-4d776a6f25fd",
   "metadata": {},
   "outputs": [
    {
     "name": "stdout",
     "output_type": "stream",
     "text": [
      "10 rows affected.\n"
     ]
    },
    {
     "data": {
      "text/html": [
       "<table>\n",
       "    <tr>\n",
       "        <th>courseid</th>\n",
       "        <th>name</th>\n",
       "    </tr>\n",
       "    <tr>\n",
       "        <td>71495</td>\n",
       "        <td>ГМиТТК</td>\n",
       "    </tr>\n",
       "    <tr>\n",
       "        <td>71495</td>\n",
       "        <td>ПиСЗ</td>\n",
       "    </tr>\n",
       "    <tr>\n",
       "        <td>71495</td>\n",
       "        <td>УиИС</td>\n",
       "    </tr>\n",
       "    <tr>\n",
       "        <td>71508</td>\n",
       "        <td>ПиСЗ</td>\n",
       "    </tr>\n",
       "    <tr>\n",
       "        <td>71508</td>\n",
       "        <td>УиИС</td>\n",
       "    </tr>\n",
       "    <tr>\n",
       "        <td>71541</td>\n",
       "        <td>ПиСЗ</td>\n",
       "    </tr>\n",
       "    <tr>\n",
       "        <td>71541</td>\n",
       "        <td>УиИС</td>\n",
       "    </tr>\n",
       "    <tr>\n",
       "        <td>71547</td>\n",
       "        <td>ПиСЗ</td>\n",
       "    </tr>\n",
       "    <tr>\n",
       "        <td>71547</td>\n",
       "        <td>УиИС</td>\n",
       "    </tr>\n",
       "    <tr>\n",
       "        <td>71549</td>\n",
       "        <td>ГМиТТК</td>\n",
       "    </tr>\n",
       "</table>"
      ],
      "text/plain": [
       "[('71495', 'ГМиТТК'),\n",
       " ('71495', 'ПиСЗ'),\n",
       " ('71495', 'УиИС'),\n",
       " ('71508', 'ПиСЗ'),\n",
       " ('71508', 'УиИС'),\n",
       " ('71541', 'ПиСЗ'),\n",
       " ('71541', 'УиИС'),\n",
       " ('71547', 'ПиСЗ'),\n",
       " ('71547', 'УиИС'),\n",
       " ('71549', 'ГМиТТК')]"
      ]
     },
     "execution_count": 25,
     "metadata": {},
     "output_type": "execute_result"
    }
   ],
   "source": [
    "%%sql postgresql:///test\n",
    "\n",
    "WITH multi_course AS (\n",
    "    SELECT courseid\n",
    "    FROM logs\n",
    "    GROUP BY courseid\n",
    "    HAVING COUNT(DISTINCT depart) > 1\n",
    ")\n",
    "SELECT DISTINCT logs.courseid, departments.name\n",
    "FROM logs\n",
    "JOIN departments ON logs.depart = departments.id::varchar\n",
    "JOIN multi_course ON logs.courseid = multi_course.courseid\n",
    "ORDER BY logs.courseid \n",
    "LIMIT 10;"
   ]
  },
  {
   "cell_type": "markdown",
   "id": "9c01df50-0b70-40ed-a233-3d53a550cde8",
   "metadata": {},
   "source": [
    "## Задание 7:\n",
    "\n",
    "Выведите количество студентов, которые получили 2, 3, 4, 5.\n",
    "\n",
    "Пример вывода:\n",
    "\n",
    "| namer_level |\tcount |\n",
    "|-----|------|\n",
    "|2 |\t4 |\n",
    "|3 |\t3435 |\n",
    "|4 | \t4676765|\n",
    "|5 | 232 |\n"
   ]
  },
  {
   "cell_type": "code",
   "execution_count": 26,
   "id": "971b4056-677d-4b9f-a3e5-6095fd9eac7d",
   "metadata": {},
   "outputs": [
    {
     "name": "stdout",
     "output_type": "stream",
     "text": [
      "4 rows affected.\n"
     ]
    },
    {
     "data": {
      "text/html": [
       "<table>\n",
       "    <tr>\n",
       "        <th>namer_level</th>\n",
       "        <th>count</th>\n",
       "    </tr>\n",
       "    <tr>\n",
       "        <td>2</td>\n",
       "        <td>1069</td>\n",
       "    </tr>\n",
       "    <tr>\n",
       "        <td>3</td>\n",
       "        <td>1884</td>\n",
       "    </tr>\n",
       "    <tr>\n",
       "        <td>4</td>\n",
       "        <td>3243</td>\n",
       "    </tr>\n",
       "    <tr>\n",
       "        <td>5</td>\n",
       "        <td>3407</td>\n",
       "    </tr>\n",
       "</table>"
      ],
      "text/plain": [
       "[('2', 1069), ('3', 1884), ('4', 3243), ('5', 3407)]"
      ]
     },
     "execution_count": 26,
     "metadata": {},
     "output_type": "execute_result"
    }
   ],
   "source": [
    "%%sql postgresql:///test\n",
    "SELECT namer_level, COUNT(DISTINCT userid)\n",
    "FROM logs\n",
    "GROUP BY namer_level;"
   ]
  },
  {
   "cell_type": "markdown",
   "id": "1f27429c-2f61-433d-8a09-dfd718eeb90d",
   "metadata": {},
   "source": [
    "## Задание 6:\n",
    "\n",
    "Выведите студента, который больше всех работает на портале (у него максимальное количество логов за вест период обучения)."
   ]
  },
  {
   "cell_type": "code",
   "execution_count": 27,
   "id": "1145b49d-e73d-40f2-923d-dfedec0d3bf0",
   "metadata": {},
   "outputs": [
    {
     "name": "stdout",
     "output_type": "stream",
     "text": [
      "1 rows affected.\n"
     ]
    },
    {
     "data": {
      "text/html": [
       "<table>\n",
       "    <tr>\n",
       "        <th>userid</th>\n",
       "        <th>count_logs</th>\n",
       "    </tr>\n",
       "    <tr>\n",
       "        <td>28871</td>\n",
       "        <td>10300</td>\n",
       "    </tr>\n",
       "</table>"
      ],
      "text/plain": [
       "[('28871', 10300)]"
      ]
     },
     "execution_count": 27,
     "metadata": {},
     "output_type": "execute_result"
    }
   ],
   "source": [
    "%%sql postgresql:///test\n",
    "SELECT userid, SUM(s_all) AS count_logs\n",
    "FROM logs\n",
    "GROUP BY userid\n",
    "ORDER BY count_logs DESC\n",
    "LIMIT 1;"
   ]
  },
  {
   "cell_type": "markdown",
   "id": "866a02d3-2f60-4b27-a538-7b30d7f9cd9d",
   "metadata": {},
   "source": [
    "## Задание 9:\n",
    "\n",
    "Выведите по каждой недели среднее количество всех событий на портале."
   ]
  },
  {
   "cell_type": "code",
   "execution_count": 28,
   "id": "02e8e872-7060-40dc-9339-436bcc993129",
   "metadata": {},
   "outputs": [
    {
     "name": "stdout",
     "output_type": "stream",
     "text": [
      "24 rows affected.\n"
     ]
    },
    {
     "data": {
      "text/html": [
       "<table>\n",
       "    <tr>\n",
       "        <th>num_week</th>\n",
       "        <th>avg</th>\n",
       "    </tr>\n",
       "    <tr>\n",
       "        <td>6</td>\n",
       "        <td>13.7966072255673923</td>\n",
       "    </tr>\n",
       "    <tr>\n",
       "        <td>7</td>\n",
       "        <td>9.6161417322834646</td>\n",
       "    </tr>\n",
       "    <tr>\n",
       "        <td>8</td>\n",
       "        <td>8.0285433070866142</td>\n",
       "    </tr>\n",
       "    <tr>\n",
       "        <td>9</td>\n",
       "        <td>9.3932955071792497</td>\n",
       "    </tr>\n",
       "    <tr>\n",
       "        <td>10</td>\n",
       "        <td>8.2085456229735989</td>\n",
       "    </tr>\n",
       "    <tr>\n",
       "        <td>11</td>\n",
       "        <td>10.0220009263547939</td>\n",
       "    </tr>\n",
       "    <tr>\n",
       "        <td>12</td>\n",
       "        <td>9.3817160722556739</td>\n",
       "    </tr>\n",
       "    <tr>\n",
       "        <td>13</td>\n",
       "        <td>10.0140111162575266</td>\n",
       "    </tr>\n",
       "    <tr>\n",
       "        <td>14</td>\n",
       "        <td>9.8601783232978231</td>\n",
       "    </tr>\n",
       "    <tr>\n",
       "        <td>15</td>\n",
       "        <td>10.3536938397406207</td>\n",
       "    </tr>\n",
       "    <tr>\n",
       "        <td>16</td>\n",
       "        <td>10.2854330708661417</td>\n",
       "    </tr>\n",
       "    <tr>\n",
       "        <td>17</td>\n",
       "        <td>10.5158059286706809</td>\n",
       "    </tr>\n",
       "    <tr>\n",
       "        <td>18</td>\n",
       "        <td>9.6713756368689208</td>\n",
       "    </tr>\n",
       "    <tr>\n",
       "        <td>19</td>\n",
       "        <td>11.1134784622510421</td>\n",
       "    </tr>\n",
       "    <tr>\n",
       "        <td>20</td>\n",
       "        <td>14.4471977767484947</td>\n",
       "    </tr>\n",
       "    <tr>\n",
       "        <td>21</td>\n",
       "        <td>18.5038212135247800</td>\n",
       "    </tr>\n",
       "    <tr>\n",
       "        <td>22</td>\n",
       "        <td>22.4873205187586846</td>\n",
       "    </tr>\n",
       "    <tr>\n",
       "        <td>23</td>\n",
       "        <td>22.2615215377489579</td>\n",
       "    </tr>\n",
       "    <tr>\n",
       "        <td>24</td>\n",
       "        <td>23.0121005094951366</td>\n",
       "    </tr>\n",
       "    <tr>\n",
       "        <td>25</td>\n",
       "        <td>18.2163617415470125</td>\n",
       "    </tr>\n",
       "    <tr>\n",
       "        <td>26</td>\n",
       "        <td>8.6029411764705882</td>\n",
       "    </tr>\n",
       "    <tr>\n",
       "        <td>27</td>\n",
       "        <td>1.2529527559055118</td>\n",
       "    </tr>\n",
       "    <tr>\n",
       "        <td>28</td>\n",
       "        <td>0.08997220935618341825</td>\n",
       "    </tr>\n",
       "    <tr>\n",
       "        <td>29</td>\n",
       "        <td>0.05471283001389532191</td>\n",
       "    </tr>\n",
       "</table>"
      ],
      "text/plain": [
       "[(6, Decimal('13.7966072255673923')),\n",
       " (7, Decimal('9.6161417322834646')),\n",
       " (8, Decimal('8.0285433070866142')),\n",
       " (9, Decimal('9.3932955071792497')),\n",
       " (10, Decimal('8.2085456229735989')),\n",
       " (11, Decimal('10.0220009263547939')),\n",
       " (12, Decimal('9.3817160722556739')),\n",
       " (13, Decimal('10.0140111162575266')),\n",
       " (14, Decimal('9.8601783232978231')),\n",
       " (15, Decimal('10.3536938397406207')),\n",
       " (16, Decimal('10.2854330708661417')),\n",
       " (17, Decimal('10.5158059286706809')),\n",
       " (18, Decimal('9.6713756368689208')),\n",
       " (19, Decimal('11.1134784622510421')),\n",
       " (20, Decimal('14.4471977767484947')),\n",
       " (21, Decimal('18.5038212135247800')),\n",
       " (22, Decimal('22.4873205187586846')),\n",
       " (23, Decimal('22.2615215377489579')),\n",
       " (24, Decimal('23.0121005094951366')),\n",
       " (25, Decimal('18.2163617415470125')),\n",
       " (26, Decimal('8.6029411764705882')),\n",
       " (27, Decimal('1.2529527559055118')),\n",
       " (28, Decimal('0.08997220935618341825')),\n",
       " (29, Decimal('0.05471283001389532191'))]"
      ]
     },
     "execution_count": 28,
     "metadata": {},
     "output_type": "execute_result"
    }
   ],
   "source": [
    "%%sql postgresql:///test\n",
    "SELECT num_week, AVG(s_all)\n",
    "FROM logs\n",
    "GROUP BY num_week;"
   ]
  },
  {
   "cell_type": "markdown",
   "id": "c638a3ad-aacb-448e-9df5-3f0d167b4e3d",
   "metadata": {},
   "source": [
    "## Задание 10: \n",
    "\n",
    "Выведите название кафедры, у которой больше всего отличников.\n",
    "\n",
    "Отдельно выведите название кафедры, у которой больше всего двоечников. "
   ]
  },
  {
   "cell_type": "code",
   "execution_count": 29,
   "id": "624a3151-7edf-4f90-9c11-687059f37263",
   "metadata": {},
   "outputs": [
    {
     "name": "stdout",
     "output_type": "stream",
     "text": [
      "1 rows affected.\n"
     ]
    },
    {
     "data": {
      "text/html": [
       "<table>\n",
       "    <tr>\n",
       "        <th>name</th>\n",
       "        <th>count</th>\n",
       "    </tr>\n",
       "    <tr>\n",
       "        <td>ДиСО</td>\n",
       "        <td>310</td>\n",
       "    </tr>\n",
       "</table>"
      ],
      "text/plain": [
       "[('ДиСО', 310)]"
      ]
     },
     "execution_count": 29,
     "metadata": {},
     "output_type": "execute_result"
    }
   ],
   "source": [
    "%%sql postgresql:///test\n",
    "\n",
    "WITH top_students AS (\n",
    "    SELECT depart, COUNT(DISTINCT userid)\n",
    "    FROM logs\n",
    "    WHERE namer_level = '5'\n",
    "    GROUP BY depart\n",
    "    ORDER BY count DESC\n",
    "    LIMIT 1\n",
    ")\n",
    "SELECT departments.name, top_students.count\n",
    "FROM top_students\n",
    "JOIN departments ON top_students.depart = departments.id::varchar;"
   ]
  },
  {
   "cell_type": "code",
   "execution_count": 30,
   "id": "afdd7c74-78ff-4f72-ae3d-21a80fa10946",
   "metadata": {},
   "outputs": [
    {
     "name": "stdout",
     "output_type": "stream",
     "text": [
      "1 rows affected.\n"
     ]
    },
    {
     "data": {
      "text/html": [
       "<table>\n",
       "    <tr>\n",
       "        <th>name</th>\n",
       "        <th>count</th>\n",
       "    </tr>\n",
       "    <tr>\n",
       "        <td>Эконом.</td>\n",
       "        <td>72</td>\n",
       "    </tr>\n",
       "</table>"
      ],
      "text/plain": [
       "[('Эконом.', 72)]"
      ]
     },
     "execution_count": 30,
     "metadata": {},
     "output_type": "execute_result"
    }
   ],
   "source": [
    "%%sql postgresql:///test\n",
    "\n",
    "WITH top_students AS (\n",
    "    SELECT depart, COUNT(DISTINCT userid)\n",
    "    FROM logs\n",
    "    WHERE namer_level = '2'\n",
    "    GROUP BY depart\n",
    "    ORDER BY count DESC\n",
    "    LIMIT 1\n",
    ")\n",
    "SELECT departments.name, top_students.count\n",
    "FROM top_students\n",
    "JOIN departments ON top_students.depart = departments.id::varchar;"
   ]
  }
 ],
 "metadata": {
  "kernelspec": {
   "display_name": "Python 3 (ipykernel)",
   "language": "python",
   "name": "python3"
  },
  "language_info": {
   "codemirror_mode": {
    "name": "ipython",
    "version": 3
   },
   "file_extension": ".py",
   "mimetype": "text/x-python",
   "name": "python",
   "nbconvert_exporter": "python",
   "pygments_lexer": "ipython3",
   "version": "3.12.7"
  }
 },
 "nbformat": 4,
 "nbformat_minor": 5
}
